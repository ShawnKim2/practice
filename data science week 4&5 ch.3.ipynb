{
 "cells": [
  {
   "cell_type": "code",
   "execution_count": 2,
   "id": "13ede8e4",
   "metadata": {},
   "outputs": [
    {
     "name": "stdout",
     "output_type": "stream",
     "text": [
      "제곱을 구할 값을 입력하세요 : 6\n",
      "6 의 제곱 =  36\n"
     ]
    }
   ],
   "source": [
    "#1\n",
    "a = int(input(\"제곱을 구할 값을 입력하세요 : \"))\n",
    "print(a, \"의 제곱 = \", a**2)"
   ]
  },
  {
   "cell_type": "code",
   "execution_count": 3,
   "id": "f3aa4bd5",
   "metadata": {},
   "outputs": [
    {
     "name": "stdout",
     "output_type": "stream",
     "text": [
      "2 4 8 16 32 64 128 256 512 1024\n"
     ]
    }
   ],
   "source": [
    "#3\n",
    "a = 2\n",
    "print(a, a<<1,a<<2, a<<3, a<<4, a<<5, a<<6, a<<7, a<<8, a<<9)"
   ]
  },
  {
   "cell_type": "code",
   "execution_count": 4,
   "id": "2ea68a26",
   "metadata": {},
   "outputs": [
    {
     "name": "stdout",
     "output_type": "stream",
     "text": [
      "0b101 & 0b110 =  0b100\n",
      "0b101 | 0b110 =  0b111\n",
      "0b101 ^ 0b110 =  0b11\n"
     ]
    }
   ],
   "source": [
    "#5\n",
    "print('0b101 & 0b110 = ', bin(0b101 & 0b110))\n",
    "print('0b101 | 0b110 = ', bin(0b101 | 0b110))\n",
    "print('0b101 ^ 0b110 = ', bin(0b101 ^ 0b110))"
   ]
  },
  {
   "cell_type": "code",
   "execution_count": 5,
   "id": "42a8899f",
   "metadata": {},
   "outputs": [
    {
     "name": "stdout",
     "output_type": "stream",
     "text": [
      "세 자리 정수를 입력하세요 : 349\n",
      "3\n",
      "4\n",
      "9\n"
     ]
    }
   ],
   "source": [
    "#7\n",
    "number = int(input('세 자리 정수를 입력하세요 : '))\n",
    "print(number // 100)\n",
    "print((number%100) // 10)\n",
    "print(number % 10)"
   ]
  },
  {
   "cell_type": "code",
   "execution_count": 6,
   "id": "16627376",
   "metadata": {},
   "outputs": [
    {
     "name": "stdout",
     "output_type": "stream",
     "text": [
      "평균 시속(km/h)을 입력하세요 : 46.5\n",
      "이동시간(h)을 입력하세요 : 12.342\n",
      "평균 시속 :  46.5 km/h\n",
      "이동 시간 :  12 시간 20 분 31 초\n",
      "이동 거리 :  573.903 km\n"
     ]
    }
   ],
   "source": [
    "#9\n",
    "s = float(input('평균 시속(km/h)을 입력하세요 : '))\n",
    "h = float(input('이동시간(h)을 입력하세요 : '))\n",
    "sec = h*60*60\n",
    "print('평균 시속 : ', s, 'km/h')\n",
    "print('이동 시간 : ', int(h//1), '시간', int((h%1)*60), '분', int(sec%60), '초')\n",
    "print('이동 거리 : ', s*h, 'km')"
   ]
  },
  {
   "cell_type": "code",
   "execution_count": 8,
   "id": "8ee3588a",
   "metadata": {},
   "outputs": [
    {
     "name": "stdout",
     "output_type": "stream",
     "text": [
      "x1 좌표를 입력하시오 : 0\n",
      "y1 좌표를 입력하시오 : 0\n",
      "x2 좌표를 입력하시오 : 3\n",
      "y2 좌표를 입력하시오 ; 4\n",
      " 직각삼각형의 면적은 =  6.0\n"
     ]
    }
   ],
   "source": [
    "#11\n",
    "x1 = int(input('x1 좌표를 입력하시오 : '))\n",
    "y1 = int(input('y1 좌표를 입력하시오 : '))\n",
    "x2 = int(input('x2 좌표를 입력하시오 : '))\n",
    "y2 = int(input('y2 좌표를 입력하시오 ; '))\n",
    "street = ((x2 - x1) * (y2 - y1))/2\n",
    "print(\" 직각삼각형의 면적은 = \", street)"
   ]
  },
  {
   "cell_type": "code",
   "execution_count": null,
   "id": "f3eb5987",
   "metadata": {},
   "outputs": [],
   "source": []
  }
 ],
 "metadata": {
  "kernelspec": {
   "display_name": "Python 3 (ipykernel)",
   "language": "python",
   "name": "python3"
  },
  "language_info": {
   "codemirror_mode": {
    "name": "ipython",
    "version": 3
   },
   "file_extension": ".py",
   "mimetype": "text/x-python",
   "name": "python",
   "nbconvert_exporter": "python",
   "pygments_lexer": "ipython3",
   "version": "3.9.7"
  }
 },
 "nbformat": 4,
 "nbformat_minor": 5
}
