{
 "cells": [
  {
   "cell_type": "code",
   "execution_count": 1,
   "id": "29a108e4",
   "metadata": {},
   "outputs": [
    {
     "name": "stdout",
     "output_type": "stream",
     "text": [
      "알파벳을 입력하시오 : i\n",
      "i (은)는 모음입니다.\n"
     ]
    }
   ],
   "source": [
    "#1\n",
    "x = ['a','b','c', 'd','e','f','g','h','i','j','k','l','m','n','o','p','q','r','s','t','v','w','x','y','z']\n",
    "x = str(input('알파벳을 입력하시오 : '))\n",
    "if x == 'a' or x=='e' or x=='i' or x=='o' or x=='u':\n",
    "  print(x, '(은)는 모음입니다.')\n",
    "else :\n",
    "  print(x, '(은)는 자음입니다.')"
   ]
  },
  {
   "cell_type": "code",
   "execution_count": 2,
   "id": "d99b6e05",
   "metadata": {},
   "outputs": [
    {
     "name": "stdout",
     "output_type": "stream",
     "text": [
      "나이를 입력하시오: 23\n",
      "Adult\n"
     ]
    }
   ],
   "source": [
    "#3\n",
    "age = int(input('나이를 입력하시오: '))\n",
    "if age >= 20:\n",
    "  print('Adult')\n",
    "elif age >= 10 and age < 10:\n",
    "  print('Youth')\n",
    "else:\n",
    "  print('Kid')"
   ]
  },
  {
   "cell_type": "code",
   "execution_count": 3,
   "id": "98051e46",
   "metadata": {},
   "outputs": [
    {
     "name": "stdout",
     "output_type": "stream",
     "text": [
      "세 복권번호를 입력하시오 : 129\n",
      "당첨번호는 7 입니다.\n",
      "당첨번호는 0 입니다.\n",
      "당첨번호는 2 입니다.\n",
      "다음 기회에...\n"
     ]
    }
   ],
   "source": [
    "#5\n",
    "import random\n",
    "me = map(int, input('세 복권번호를 입력하시오 : ').split())\n",
    "\n",
    "alist=[]\n",
    "for i in range(3):\n",
    "  lotto = random.randint(0, 9)\n",
    "  print(\"당첨번호는\", lotto, \"입니다.\")\n",
    "while lotto in alist :\n",
    "  lotto = random.randint(1,9)\n",
    "\n",
    "if (lotto == me):\n",
    "  print(\"상금은 1억원입니다.\")\n",
    "else:\n",
    "   print(\"다음 기회에...\")"
   ]
  },
  {
   "cell_type": "code",
   "execution_count": 4,
   "id": "bcb9a86e",
   "metadata": {},
   "outputs": [
    {
     "name": "stdout",
     "output_type": "stream",
     "text": [
      "86+12=98\n",
      "잘했어요!!\n"
     ]
    }
   ],
   "source": [
    "#7\n",
    "import random\n",
    "x = random.randint(1, 100)\n",
    "y = random.randint(1, 100)\n",
    "s = str(x)+'+'+str(y)+'='\n",
    "num = int(input(s))\n",
    "if num == x+y:\n",
    "\tprint(\"잘했어요!!\")\n",
    "else:\n",
    "\tprint(\"정답은\", x+y, '입니다.')"
   ]
  },
  {
   "cell_type": "code",
   "execution_count": null,
   "id": "4510109d",
   "metadata": {},
   "outputs": [],
   "source": []
  }
 ],
 "metadata": {
  "kernelspec": {
   "display_name": "Python 3 (ipykernel)",
   "language": "python",
   "name": "python3"
  },
  "language_info": {
   "codemirror_mode": {
    "name": "ipython",
    "version": 3
   },
   "file_extension": ".py",
   "mimetype": "text/x-python",
   "name": "python",
   "nbconvert_exporter": "python",
   "pygments_lexer": "ipython3",
   "version": "3.9.7"
  }
 },
 "nbformat": 4,
 "nbformat_minor": 5
}
